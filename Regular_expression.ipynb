{
  "nbformat": 4,
  "nbformat_minor": 0,
  "metadata": {
    "colab": {
      "name": "Regular_expression.ipynb",
      "provenance": [],
      "authorship_tag": "ABX9TyMZW6QAkUAcUt5ScrQ7Bf++",
      "include_colab_link": true
    },
    "kernelspec": {
      "name": "python3",
      "display_name": "Python 3"
    }
  },
  "cells": [
    {
      "cell_type": "markdown",
      "metadata": {
        "id": "view-in-github",
        "colab_type": "text"
      },
      "source": [
        "<a href=\"https://colab.research.google.com/github/StanleyLiangYork/NLP_deepLearning/blob/master/Regular_expression.ipynb\" target=\"_parent\"><img src=\"https://colab.research.google.com/assets/colab-badge.svg\" alt=\"Open In Colab\"/></a>"
      ]
    },
    {
      "cell_type": "code",
      "metadata": {
        "id": "HM8NCdt7s7Zd",
        "colab_type": "code",
        "colab": {}
      },
      "source": [
        "import re\n",
        "\n",
        "middle_initial = '[A-Z]\\.'"
      ],
      "execution_count": null,
      "outputs": []
    },
    {
      "cell_type": "code",
      "metadata": {
        "id": "Z5V0b0-xziHl",
        "colab_type": "code",
        "colab": {}
      },
      "source": [
        "regex = re.compile(middle_initial)\n",
        "\n",
        "names = ['John R. Liang', 'Stanley Z. Liang', 'Eva S. Yuan']"
      ],
      "execution_count": null,
      "outputs": []
    },
    {
      "cell_type": "code",
      "metadata": {
        "id": "GJxAc5QmGZlR",
        "colab_type": "code",
        "colab": {
          "base_uri": "https://localhost:8080/",
          "height": 35
        },
        "outputId": "6be92803-1b0c-4f4c-fbc4-50b0c69cdd26"
      },
      "source": [
        "results = []\n",
        "for name in names:\n",
        "  result = regex.split(name)\n",
        "  results.append(result)\n",
        "\n",
        "print(results)"
      ],
      "execution_count": null,
      "outputs": [
        {
          "output_type": "stream",
          "text": [
            "[['John ', ' Liang'], ['Stanley ', ' Liang'], ['Eva ', ' Yuan']]\n"
          ],
          "name": "stdout"
        }
      ]
    },
    {
      "cell_type": "code",
      "metadata": {
        "id": "Ger3UGtPHWmH",
        "colab_type": "code",
        "colab": {}
      },
      "source": [
        "from collections import namedtuple\n",
        "\n",
        "Person = namedtuple(typename='Person', field_names=['first', 'last'])\n",
        "people = [Person(*regex.split(name)) for name in names]"
      ],
      "execution_count": null,
      "outputs": []
    },
    {
      "cell_type": "code",
      "metadata": {
        "id": "fmMu4Q3cIVSJ",
        "colab_type": "code",
        "colab": {
          "base_uri": "https://localhost:8080/",
          "height": 70
        },
        "outputId": "9d16796c-bba0-402a-81e5-4899293bf068"
      },
      "source": [
        "for person in people:\n",
        "  print(\"First name: {:12s}, Last name: {:12s}\".format(person.first, person.last))"
      ],
      "execution_count": null,
      "outputs": [
        {
          "output_type": "stream",
          "text": [
            "First name: John        , Last name:  Liang      \n",
            "First name: Stanley     , Last name:  Liang      \n",
            "First name: Eva         , Last name:  Yuan       \n"
          ],
          "name": "stdout"
        }
      ]
    },
    {
      "cell_type": "code",
      "metadata": {
        "id": "rAxvf6SeD_eG",
        "colab_type": "code",
        "colab": {}
      },
      "source": [
        "response = '300 K'\n",
        "\n",
        "regex = re.compile('\\d{3}')\n",
        "\n",
        "result = regex.match(response)"
      ],
      "execution_count": null,
      "outputs": []
    },
    {
      "cell_type": "code",
      "metadata": {
        "id": "vdXrBxQUERDL",
        "colab_type": "code",
        "colab": {
          "base_uri": "https://localhost:8080/",
          "height": 88
        },
        "outputId": "16b9c1c1-4c99-49e8-b302-76ee1deca714"
      },
      "source": [
        "if result:\n",
        "  print('match')\n",
        "  print(result.start())\n",
        "  print(result.end())\n",
        "  print(result.span())"
      ],
      "execution_count": null,
      "outputs": [
        {
          "output_type": "stream",
          "text": [
            "match\n",
            "0\n",
            "3\n",
            "(0, 3)\n"
          ],
          "name": "stdout"
        }
      ]
    },
    {
      "cell_type": "code",
      "metadata": {
        "id": "AS2alz11FCwW",
        "colab_type": "code",
        "colab": {
          "base_uri": "https://localhost:8080/",
          "height": 35
        },
        "outputId": "bf7a8f76-23f9-44dd-ae08-38a5a60b2d4b"
      },
      "source": [
        "regex = re.compile('[A-Z]+')\n",
        "result = regex.match(response)\n",
        "\n",
        "print(result)"
      ],
      "execution_count": null,
      "outputs": [
        {
          "output_type": "stream",
          "text": [
            "None\n"
          ],
          "name": "stdout"
        }
      ]
    },
    {
      "cell_type": "code",
      "metadata": {
        "id": "bgf05wrKFZP7",
        "colab_type": "code",
        "colab": {
          "base_uri": "https://localhost:8080/",
          "height": 35
        },
        "outputId": "89ee1bc6-d0af-4d6c-8f50-46636bbcca39"
      },
      "source": [
        "result = regex.search(response)\n",
        "print(result)"
      ],
      "execution_count": null,
      "outputs": [
        {
          "output_type": "stream",
          "text": [
            "<_sre.SRE_Match object; span=(4, 5), match='K'>\n"
          ],
          "name": "stdout"
        }
      ]
    },
    {
      "cell_type": "markdown",
      "metadata": {
        "id": "v1MI-HboF8vp",
        "colab_type": "text"
      },
      "source": [
        "Telephone number pattern"
      ]
    },
    {
      "cell_type": "code",
      "metadata": {
        "id": "U4WIWNGhF2V3",
        "colab_type": "code",
        "colab": {
          "base_uri": "https://localhost:8080/",
          "height": 52
        },
        "outputId": "20963d44-6421-4702-abef-514aa1a7d572"
      },
      "source": [
        "regex = re.compile('(\\d{3})-(\\d{3})-(\\d{4})')\n",
        "\n",
        "tel = '123-456-7890'\n",
        "\n",
        "result = regex.match(tel)\n",
        "\n",
        "if result:\n",
        "  print('match')\n",
        "  print(result.groups())"
      ],
      "execution_count": null,
      "outputs": [
        {
          "output_type": "stream",
          "text": [
            "match\n",
            "('123', '456', '7890')\n"
          ],
          "name": "stdout"
        }
      ]
    },
    {
      "cell_type": "code",
      "metadata": {
        "id": "_6y4DgS1IJAj",
        "colab_type": "code",
        "colab": {
          "base_uri": "https://localhost:8080/",
          "height": 35
        },
        "outputId": "ef690063-c3a9-403e-96c8-822483a6a1ee"
      },
      "source": [
        "voice_msg = 'My telephone number is 123-456-7890, please call me.'\n",
        "result = regex.search(voice_msg)\n",
        "\n",
        "print(result)"
      ],
      "execution_count": null,
      "outputs": [
        {
          "output_type": "stream",
          "text": [
            "<_sre.SRE_Match object; span=(23, 35), match='123-456-7890'>\n"
          ],
          "name": "stdout"
        }
      ]
    },
    {
      "cell_type": "markdown",
      "metadata": {
        "id": "locxhlz4IyBl",
        "colab_type": "text"
      },
      "source": [
        "Assign group names"
      ]
    },
    {
      "cell_type": "code",
      "metadata": {
        "id": "TdZz2JdsI2T9",
        "colab_type": "code",
        "colab": {
          "base_uri": "https://localhost:8080/",
          "height": 35
        },
        "outputId": "38b40797-3054-4f84-b546-6cec740e9ead"
      },
      "source": [
        "regex = re.compile('(?P<area_code>\\d{3})-(?P<prefix>\\d{3})-(?P<extension>\\d{4})')\n",
        "result = regex.search(voice_msg)\n",
        "\n",
        "result"
      ],
      "execution_count": null,
      "outputs": [
        {
          "output_type": "execute_result",
          "data": {
            "text/plain": [
              "<_sre.SRE_Match object; span=(23, 35), match='123-456-7890'>"
            ]
          },
          "metadata": {
            "tags": []
          },
          "execution_count": 12
        }
      ]
    },
    {
      "cell_type": "code",
      "metadata": {
        "id": "xB5-CiH2Jg7O",
        "colab_type": "code",
        "colab": {
          "base_uri": "https://localhost:8080/",
          "height": 52
        },
        "outputId": "f09e957d-4b3c-42a0-db11-20d1c5ac0135"
      },
      "source": [
        "if result:\n",
        "  print(result.groupdict()['area_code'])\n",
        "  print(result.groupdict()['extension'])"
      ],
      "execution_count": null,
      "outputs": [
        {
          "output_type": "stream",
          "text": [
            "123\n",
            "7890\n"
          ],
          "name": "stdout"
        }
      ]
    },
    {
      "cell_type": "markdown",
      "metadata": {
        "id": "qcE-oyk6MvXp",
        "colab_type": "text"
      },
      "source": [
        "Multiple match"
      ]
    },
    {
      "cell_type": "code",
      "metadata": {
        "id": "rpRzyuCqMwno",
        "colab_type": "code",
        "colab": {}
      },
      "source": [
        "html = \"\"\"<div class=\"red\">One</div><div>Two</div><span>Three</span><div id=\"cuatro\">Four</div>\"\"\"\n",
        "regex = re.compile('<div[\\s+]') # a <div> tag followed by at least one white spacce\n",
        "result = regex.findall(html)"
      ],
      "execution_count": null,
      "outputs": []
    },
    {
      "cell_type": "code",
      "metadata": {
        "id": "OTl_zJtpNrgK",
        "colab_type": "code",
        "colab": {
          "base_uri": "https://localhost:8080/",
          "height": 35
        },
        "outputId": "a16b6f60-bede-4ed9-a468-d4ce7b8ecedd"
      },
      "source": [
        "result"
      ],
      "execution_count": null,
      "outputs": [
        {
          "output_type": "execute_result",
          "data": {
            "text/plain": [
              "['<div ', '<div ']"
            ]
          },
          "metadata": {
            "tags": []
          },
          "execution_count": 15
        }
      ]
    },
    {
      "cell_type": "code",
      "metadata": {
        "id": "-Tq3ShUiOPJO",
        "colab_type": "code",
        "colab": {
          "base_uri": "https://localhost:8080/",
          "height": 52
        },
        "outputId": "98264867-bcf3-4e94-9546-974708784ee1"
      },
      "source": [
        "results = regex.finditer(html)\n",
        "\n",
        "for item in results:\n",
        "  print(item)"
      ],
      "execution_count": null,
      "outputs": [
        {
          "output_type": "stream",
          "text": [
            "<_sre.SRE_Match object; span=(0, 5), match='<div '>\n",
            "<_sre.SRE_Match object; span=(58, 63), match='<div '>\n"
          ],
          "name": "stdout"
        }
      ]
    },
    {
      "cell_type": "code",
      "metadata": {
        "id": "nSg_Jb6R24G0",
        "colab_type": "code",
        "colab": {
          "base_uri": "https://localhost:8080/",
          "height": 35
        },
        "outputId": "c2245314-8b95-46a8-bb34-96a990137144"
      },
      "source": [
        "bool_test = '1 &lt; 2'\n",
        "\n",
        "regex = re.compile('&lt;')\n",
        "\n",
        "result = regex.sub('<',bool_test)\n",
        "result"
      ],
      "execution_count": null,
      "outputs": [
        {
          "output_type": "execute_result",
          "data": {
            "application/vnd.google.colaboratory.intrinsic": {
              "type": "string"
            },
            "text/plain": [
              "'1 < 2'"
            ]
          },
          "metadata": {
            "tags": []
          },
          "execution_count": 22
        }
      ]
    },
    {
      "cell_type": "code",
      "metadata": {
        "id": "0pN4ZnSp_2c8",
        "colab_type": "code",
        "colab": {}
      },
      "source": [
        "text = [\"诊断：颈椎病\",\"穴位：\",\"后溪，白劳，新设\",\"中药：\",\"半夏15克，天麻12克，白术10克\"]"
      ],
      "execution_count": null,
      "outputs": []
    },
    {
      "cell_type": "code",
      "metadata": {
        "id": "woQGiegYApIX",
        "colab_type": "code",
        "colab": {}
      },
      "source": [
        "regex = re.compile('诊断：')\n",
        "\n",
        "line_num = len(text)\n",
        "\n",
        "data_dict = dict()\n",
        "\n",
        "for i in range(line_num):\n",
        "  if regex.match(text[i]):\n",
        "    diagnosis = regex.sub('',text[i])\n",
        "    data_dict=diagnosis"
      ],
      "execution_count": null,
      "outputs": []
    },
    {
      "cell_type": "code",
      "metadata": {
        "id": "-43OvFo8B6bX",
        "colab_type": "code",
        "colab": {
          "base_uri": "https://localhost:8080/",
          "height": 35
        },
        "outputId": "00f8d32d-c595-4270-adc3-51b06ac082b5"
      },
      "source": [
        "data_dict"
      ],
      "execution_count": null,
      "outputs": [
        {
          "output_type": "execute_result",
          "data": {
            "application/vnd.google.colaboratory.intrinsic": {
              "type": "string"
            },
            "text/plain": [
              "'颈椎病'"
            ]
          },
          "metadata": {
            "tags": []
          },
          "execution_count": 33
        }
      ]
    },
    {
      "cell_type": "code",
      "metadata": {
        "id": "1pTbhxS8EvIU",
        "colab_type": "code",
        "colab": {
          "base_uri": "https://localhost:8080/",
          "height": 232
        },
        "outputId": "2eeed2c8-bb77-4cb9-eade-9cf34f98c70d"
      },
      "source": [
        "!pip install python-docx"
      ],
      "execution_count": null,
      "outputs": [
        {
          "output_type": "stream",
          "text": [
            "Collecting python-docx\n",
            "\u001b[?25l  Downloading https://files.pythonhosted.org/packages/e4/83/c66a1934ed5ed8ab1dbb9931f1779079f8bca0f6bbc5793c06c4b5e7d671/python-docx-0.8.10.tar.gz (5.5MB)\n",
            "\u001b[K     |████████████████████████████████| 5.5MB 5.3MB/s \n",
            "\u001b[?25hRequirement already satisfied: lxml>=2.3.2 in /usr/local/lib/python3.6/dist-packages (from python-docx) (4.2.6)\n",
            "Building wheels for collected packages: python-docx\n",
            "  Building wheel for python-docx (setup.py) ... \u001b[?25l\u001b[?25hdone\n",
            "  Created wheel for python-docx: filename=python_docx-0.8.10-cp36-none-any.whl size=184491 sha256=00d4bebf9bca0a7b4aa13718f84b831d315f9a1459bd704a11184868b848d75c\n",
            "  Stored in directory: /root/.cache/pip/wheels/18/0b/a0/1dd62ff812c857c9e487f27d80d53d2b40531bec1acecfa47b\n",
            "Successfully built python-docx\n",
            "Installing collected packages: python-docx\n",
            "Successfully installed python-docx-0.8.10\n"
          ],
          "name": "stdout"
        }
      ]
    },
    {
      "cell_type": "code",
      "metadata": {
        "id": "gijf1pRGFLD9",
        "colab_type": "code",
        "colab": {}
      },
      "source": [
        "import docx\n",
        "\n",
        "doc = docx.Document(\"ehr_00001.docx\")"
      ],
      "execution_count": null,
      "outputs": []
    },
    {
      "cell_type": "code",
      "metadata": {
        "id": "Fu0-kSD6FS1L",
        "colab_type": "code",
        "colab": {
          "base_uri": "https://localhost:8080/",
          "height": 35
        },
        "outputId": "6c17e71f-3a21-4ee0-d9a1-7a5cbf2d02af"
      },
      "source": [
        "all_paras = doc.paragraphs\n",
        "len(all_paras)"
      ],
      "execution_count": null,
      "outputs": [
        {
          "output_type": "execute_result",
          "data": {
            "text/plain": [
              "20"
            ]
          },
          "metadata": {
            "tags": []
          },
          "execution_count": 39
        }
      ]
    },
    {
      "cell_type": "code",
      "metadata": {
        "id": "FPfA2WqrGfBa",
        "colab_type": "code",
        "colab": {
          "base_uri": "https://localhost:8080/",
          "height": 728
        },
        "outputId": "86ab042e-94d0-4ff4-a440-ab069fef3094"
      },
      "source": [
        "for para in all_paras:\n",
        "    print(para.text)\n",
        "    print(\"-------\")"
      ],
      "execution_count": null,
      "outputs": [
        {
          "output_type": "stream",
          "text": [
            "  2007年11月06日08:16:11   科别：东区五楼针门  挂号号:600007153584\n",
            "-------\n",
            "姓名:CAM LAM   \n",
            "-------\n",
            "神清，间中有头晕及有漂浮感，右侧耳鸣，右耳压迫感，睡眠有进一步改善，少许咳嗽，少\n",
            "-------\n",
            "痰，痰白，纳一般，小便清长，口干喜热饮，无畏寒，舌质淡红，苔白腻，脉弦。\n",
            "-------\n",
            "  西医诊断：美尼氏综合征\n",
            "-------\n",
            "  中医诊断：眩晕\n",
            "-------\n",
            "处理：\n",
            "-------\n",
            " 针：引气归元、商曲、滑肉门、外关、足临泣、百会、听宫、翳风等，结合艾灸、照灯、耳\n",
            "-------\n",
            "穴压丸治疗。\n",
            "-------\n",
            "    中药处方：\n",
            "-------\n",
            "    熟附子(黑顺片)25g         干姜10g                   党参(熟党)60g             \n",
            "-------\n",
            "    北芪(黄芪)45g             巴戟(制巴戟)15g           柴胡10g                   \n",
            "-------\n",
            "    酒大黄(酒军)5g            川芎(制川芎)15g           三棱(醋三棱)10g           \n",
            "-------\n",
            "    枳壳(炒枳壳)10g           当归10g                   肉桂2g                    \n",
            "-------\n",
            "    煎服，共3剂\n",
            "-------\n",
            "\n",
            "-------\n",
            "                                                  医师：蒙昌荣\n",
            "-------\n",
            "\n",
            "-------\n",
            "\n",
            "-------\n",
            "\n",
            "-------\n"
          ],
          "name": "stdout"
        }
      ]
    },
    {
      "cell_type": "code",
      "metadata": {
        "id": "KVBylUiqFgid",
        "colab_type": "code",
        "colab": {}
      },
      "source": [
        "regex = re.compile('中医诊断：')\n",
        "\n",
        "for para in all_paras:\n",
        "  if regex.match(para.text):\n",
        "    diagnosis = regex.sub('',para.text)"
      ],
      "execution_count": null,
      "outputs": []
    },
    {
      "cell_type": "code",
      "metadata": {
        "id": "MD9a9skLGLxp",
        "colab_type": "code",
        "colab": {
          "base_uri": "https://localhost:8080/",
          "height": 35
        },
        "outputId": "89227d97-62e9-48d7-8076-ee78a78bfd46"
      },
      "source": [
        "diagnosis"
      ],
      "execution_count": null,
      "outputs": [
        {
          "output_type": "execute_result",
          "data": {
            "application/vnd.google.colaboratory.intrinsic": {
              "type": "string"
            },
            "text/plain": [
              "'颈椎病'"
            ]
          },
          "metadata": {
            "tags": []
          },
          "execution_count": 44
        }
      ]
    },
    {
      "cell_type": "code",
      "metadata": {
        "id": "BkbMLn48FjXE",
        "colab_type": "code",
        "colab": {}
      },
      "source": [
        ""
      ],
      "execution_count": null,
      "outputs": []
    }
  ]
}